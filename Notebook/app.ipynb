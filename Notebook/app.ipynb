{
 "cells": [
  {
   "cell_type": "code",
   "execution_count": null,
   "id": "f5edbc6b",
   "metadata": {},
   "outputs": [],
   "source": [
    "import os\n",
    "from dotenv import load_dotenv\n",
    "load_dotenv()"
   ]
  },
  {
   "cell_type": "code",
   "execution_count": null,
   "id": "2b078ff2",
   "metadata": {},
   "outputs": [],
   "source": [
    "from langchain_community.document_loaders import PyPDFLoader\n",
    "from langchain_text_splitters import RecursiveCharacterTextSplitter\n",
    "from langchain_ollama import ChatOllama, OllamaEmbeddings\n",
    "# from langchain_huggingface import HuggingFaceEmbeddings, HuggingFaceEndpointEmbeddings\n",
    "\n",
    "llm = ChatOllama(model=\"gemma3:4b\")\n",
    "# embeddings = HuggingFaceEndpointEmbeddings(model=\"sentence-transformers/all-MiniLM-L6-v2\")\n",
    "embeddings = OllamaEmbeddings(model=\"embeddinggemma:latest\")\n"
   ]
  },
  {
   "cell_type": "code",
   "execution_count": null,
   "id": "9c69c956",
   "metadata": {},
   "outputs": [],
   "source": [
    "data = PyPDFLoader(\"D:\\Projects2025\\Chatbot2\\Media\\operating system.pdf\").load()\n",
    "\n",
    "spliter = RecursiveCharacterTextSplitter(chunk_size=2048, chunk_overlap=200)\n",
    "\n",
    "docs =  spliter.split_documents(data)\n",
    "docs"
   ]
  },
  {
   "cell_type": "code",
   "execution_count": null,
   "id": "5fd8cf20",
   "metadata": {},
   "outputs": [],
   "source": [
    "from langchain_community.vectorstores import FAISS\n",
    "\n",
    "\n",
    "vs = FAISS.from_documents(embedding=embeddings, documents=docs)\n",
    "\n",
    "vs"
   ]
  },
  {
   "cell_type": "code",
   "execution_count": null,
   "id": "ac6d5529",
   "metadata": {},
   "outputs": [],
   "source": [
    "vs.similarity_search(\"What is an operating system\")"
   ]
  },
  {
   "cell_type": "code",
   "execution_count": null,
   "id": "1c80ef6e",
   "metadata": {},
   "outputs": [],
   "source": [
    "retriver = vs.as_retriever()"
   ]
  },
  {
   "cell_type": "code",
   "execution_count": 14,
   "id": "9a809063",
   "metadata": {},
   "outputs": [],
   "source": [
    "from langchain_core.prompts import ChatPromptTemplate\n",
    "\n",
    "prompt= ChatPromptTemplate.from_messages(\n",
    "    [\n",
    "        (\"system\", \"you are an helpful assistant help to resolve this query based on the {context}. if the query is not relevent say i don't know \"),\n",
    "        (\"human\", \"{input}\")\n",
    "    ]\n",
    ")"
   ]
  },
  {
   "cell_type": "code",
   "execution_count": 17,
   "id": "4b82095f",
   "metadata": {},
   "outputs": [
    {
     "data": {
      "text/plain": [
       "RunnableBinding(bound=RunnableAssign(mapper={\n",
       "  context: RunnableBinding(bound=RunnableLambda(lambda x: x['input'])\n",
       "           | VectorStoreRetriever(tags=['FAISS', 'HuggingFaceEndpointEmbeddings'], vectorstore=<langchain_community.vectorstores.faiss.FAISS object at 0x000001E2FDB1A3C0>, search_kwargs={}), kwargs={}, config={'run_name': 'retrieve_documents'}, config_factories=[])\n",
       "})\n",
       "| RunnableAssign(mapper={\n",
       "    answer: RunnableBinding(bound=RunnableBinding(bound=RunnableAssign(mapper={\n",
       "              context: RunnableLambda(format_docs)\n",
       "            }), kwargs={}, config={'run_name': 'format_inputs'}, config_factories=[])\n",
       "            | ChatPromptTemplate(input_variables=['context', 'input'], input_types={}, partial_variables={}, messages=[SystemMessagePromptTemplate(prompt=PromptTemplate(input_variables=['context'], input_types={}, partial_variables={}, template=\"you are an helpful assistant help to resolve this query based on the {context}. if the query is not relevent say i don't know \"), additional_kwargs={}), HumanMessagePromptTemplate(prompt=PromptTemplate(input_variables=['input'], input_types={}, partial_variables={}, template='{input}'), additional_kwargs={})])\n",
       "            | ChatOllama(model='gemma3:4b')\n",
       "            | StrOutputParser(), kwargs={}, config={'run_name': 'stuff_documents_chain'}, config_factories=[])\n",
       "  }), kwargs={}, config={'run_name': 'retrieval_chain'}, config_factories=[])"
      ]
     },
     "execution_count": 17,
     "metadata": {},
     "output_type": "execute_result"
    }
   ],
   "source": [
    "from langchain.chains.combine_documents import create_stuff_documents_chain\n",
    "from langchain.chains import create_retrieval_chain\n",
    "\n",
    "\n",
    "context_chain = create_stuff_documents_chain(llm=llm, prompt=prompt)\n",
    "rag = create_retrieval_chain(retriver, context_chain)\n",
    "rag"
   ]
  },
  {
   "cell_type": "code",
   "execution_count": 19,
   "id": "39ae4446",
   "metadata": {},
   "outputs": [
    {
     "data": {
      "text/plain": [
       "{'input': 'What is an hululu?',\n",
       " 'context': [Document(id='caf932a8-10f0-4e1d-bc3a-8737ec2627f4', metadata={'producer': 'LibreOffice 24.8.1.2 (X86_64) / LibreOffice Community', 'creator': 'Writer', 'creationdate': '2024-10-16T16:21:41+00:00', 'source': 'D:\\\\Projects2025\\\\Chatbot2\\\\Media\\\\operating system.pdf', 'total_pages': 179, 'page': 77, 'page_label': '78'}, page_content='Explanation: None.\\n10. The media file is streamed to the client but is only played and not stored \\nby the client in ___________\\na) progressive download\\nb) regular download\\nc) real time streaming\\nd) virtual time streaming\\nAnswer: c\\nExplanation: None.\\n11. Real time streaming is most useful for ___________\\na) short video clips\\nb) long video clips\\nc) extremely short and low quality videos\\nd) none of the mentioned\\nAnswer: b\\nExplanation: None.\\nMore MCQs on Multimedia System – Compression:\\n--------------------------------------------------------------------------------\\n---------------------------------\\nOperating System Questions & Answers – Multimedia System – Compression – 2\\n--------------------------------------------------------------------------------\\n---------------------------------\\n1. The ability to move around within a media stream is known as ___________\\na) buffering\\nb) random access\\nc) access\\nd) sequential access\\nAnswer: b\\nExplanation: None.\\n2. What are the two types of real time streaming?\\na) live & on demand streaming\\nb) dead & static streaming\\nc) static & on demand streaming\\nd) on demand streaming\\nAnswer: a\\nExplanation: None.\\n3. Random access is not allowed in ___________\\na) live streaming\\nb) dead streaming\\nc) static streaming\\nd) on demand streaming\\nAnswer: a\\nExplanation: None.\\n4. The streaming that takes place as the event is occurring is ___________\\na) live streaming\\nb) dead streaming\\nc) static streaming\\nd) on demand streaming\\nAnswer: d\\nExplanation: None.\\n5. For a computer to deliver continuous media it must guarantee the specific \\nrate and timing requirements, also known as ___________'),\n",
       "  Document(id='ee67b397-92f6-4a1d-a74b-6718ddb066d3', metadata={'producer': 'LibreOffice 24.8.1.2 (X86_64) / LibreOffice Community', 'creator': 'Writer', 'creationdate': '2024-10-16T16:21:41+00:00', 'source': 'D:\\\\Projects2025\\\\Chatbot2\\\\Media\\\\operating system.pdf', 'total_pages': 179, 'page': 82, 'page_label': '83'}, page_content='b) multicasting\\nc) broadcasting\\nd) all of the mentioned\\nAnswer: d\\nExplanation: None.\\n2. Unicasting delivers the content to ___________\\na) a single client\\nb) all clients, regardless whether they want the content or not\\nc) a group of receivers who indicate they wish to receive the content\\nd) none of the mentioned\\nAnswer: a\\nExplanation: None.\\n3. Broadcasting delivers the content to ___________\\na) a single client\\nb) all clients, regardless whether they want the content or not\\nc) a group of receivers who indicate they wish to receive the content\\nd) none of the mentioned\\nAnswer: b\\nExplanation: None.\\n4. Multicasting delivers the content to ___________\\na) a single client\\nb) all clients, regardless whether they want the content or not\\nc) a group of receivers who indicate they wish to receive the content\\nd) none of the mentioned\\nAnswer: c\\nExplanation: None.\\n5. RTSP stands for ___________\\na) Real Time Streaming Policy\\nb) Real Time Streaming Protocol\\nc) Real Time Systems Protocol\\nd) Read Time Streaming Policy\\nAnswer: b\\nExplanation: None.\\nSanfoundry Certification Contest of the Month is Live. 100+ Subjects. \\nParticipate Now!\\n6. HTTP is __________\\na) a stateful protocol\\nb) a stateless protocol\\nc) a protocol that maintains the status of its connection with the client\\nd) a stateless protocol that does not maintain the status of its connection with \\nthe client\\nAnswer: d\\nExplanation: None.\\n7. RTSP includes which of the following states?\\na) SETUP\\nb) PLAY\\nc) PAUSE\\nd) All of the mentioned\\nAnswer: d\\nExplanation: None.\\n8. In the SETUP state ___________\\na) the server is setup\\nb) the client is setup\\nc) the server allocates resources for the client session\\nd) the client sends requests to the server'),\n",
       "  Document(id='8858f7fd-c75d-49c1-88df-6e4b127015c4', metadata={'producer': 'LibreOffice 24.8.1.2 (X86_64) / LibreOffice Community', 'creator': 'Writer', 'creationdate': '2024-10-16T16:21:41+00:00', 'source': 'D:\\\\Projects2025\\\\Chatbot2\\\\Media\\\\operating system.pdf', 'total_pages': 179, 'page': 75, 'page_label': '76'}, page_content='d) all of the mentioned\\n Answer: d\\nExplanation: None.\\n7. In teardown state of real time streaming protocol is ___________\\na) the server resources for client\\nb) server delivers the stream to client\\nc) server suspends delivery of stream\\nd) server breaks down the connection\\n Answer: d\\nExplanation: None.\\n8. CineBlitz multimedia server supports ___________\\na) real time clients\\nb) non-real time clients\\nc) both real time & non-real time clients\\nd) none of the mentioned\\n Answer: c\\nExplanation: None.\\n9. Multimedia system require hard real time scheduling ___________\\na) to ensure critical tasks will be serviced within timing deadlines\\nb) to deliver the media file to the client\\nc) to minimize the delay\\nd) for security\\n Answer: a\\nExplanation: None.\\n10. Which one of the following resource is not necessarily required on a file \\nserver?\\na) secondary storage\\nb) processor\\nc) network\\nd) monitor\\n--------------------------------------------------------------------------------\\n---------------------------------\\nOperating System Multiple Choice Questions – Multimedia System – Compression\\n--------------------------------------------------------------------------------\\n---------------------------------\\n1. The major difference between a multimedia file and a regular file is \\n___________\\na) the size\\nb) the attributes\\nc) the ownership\\nd) the rate at which the file must be accessed\\nAnswer: d\\nExplanation: Multimedia files must be accessed at a specific rate whereas \\naccessing regular files requires no special timings.\\n2. Video is represented as a series of images formally known as ___________\\na) pics\\nb) shots\\nc) frames\\nd) snaps\\nAnswer: c'),\n",
       "  Document(id='f6ffa714-cbce-4a54-89bd-9435a6d9be0f', metadata={'producer': 'LibreOffice 24.8.1.2 (X86_64) / LibreOffice Community', 'creator': 'Writer', 'creationdate': '2024-10-16T16:21:41+00:00', 'source': 'D:\\\\Projects2025\\\\Chatbot2\\\\Media\\\\operating system.pdf', 'total_pages': 179, 'page': 76, 'page_label': '77'}, page_content='Explanation: None.\\n3. The faster the frames are displayed, ___________\\na) the rougher the video appears\\nb) the smoother the video appears\\nc) it gets blurry\\nd) none of the mentioned\\nAnswer: b\\nExplanation: None.\\n4. The characteristic of the eye to retain the image for a short time after it \\nhas been presented is known as ___________\\na) persistence of vision\\nb) learning power\\nc) memory mapped input\\nd) none of the mentioned\\nAnswer: a\\nExplanation: None.\\n5. When will Local playback be used?\\na) the multimedia data are delivered from a local file system\\nb) a computer next to you is playing something\\nc) a multimedia file is being played on a system in the local network\\nd) none of the mentioned\\nAnswer: a\\nExplanation: None.\\n    \\nSubscribe Now: Operating System Newsletter | Important Subjects Newsletters\\n6. Multimedia files stored on a remote server are delivered to a client across \\nthe network using a technique known as ___________\\na) download\\nb) streaming\\nc) flowing\\nd) leaking\\nAnswer: b\\nExplanation: None.\\n7. What are the two types of streaming techniques?\\na) progressive download & real time streaming\\nb) regular download & real time streaming\\nc) real time & virtual time streaming\\nd) virtual time streaming\\nAnswer: a\\nExplanation: None.\\n8. A media file containing audio or video is downloaded and stored on the \\nclient’s local file system in ___________\\na) progressive download\\nb) regular download\\nc) real time streaming\\nd) virtual time streaming\\nAnswer: a\\nExplanation: As the file is being downloaded, the client is able to play back \\nthe media file without having to wait for the file to be downloaded in its \\nentirety.\\n9. Progressive download is most useful for ___________\\na) short video clips\\nb) long video clips\\nc) extremely long and high quality videos\\nd) none of the mentioned\\nAnswer: a')],\n",
       " 'answer': 'Okay, let\\'s tackle the question of what an \"hululu\" is. This is a fascinating one because it’s not a widely known word! \\n\\nBased on research, an “hululu” is a term specifically associated with **the Māori people of New Zealand**. It refers to a **traditional Māori flute**. \\n\\nHere\\'s a breakdown of what\\'s known about it:\\n\\n*   **Material:** Hululū are traditionally made from the bone of the **white heron** (Hūia).\\n*   **Sound:** They produce a distinctive, haunting, and melodic sound.\\n*   **Cultural Significance:** Hululū hold significant cultural and spiritual importance within Māori communities. They were often used in ceremonies, rituals, and storytelling.\\n\\n**Important Note:** Because the term is specific to Māori culture, it’s not commonly encountered outside of that context.\\n\\nDo you want me to delve deeper into any particular aspect of hululū – perhaps their history, construction, or cultural significance?'}"
      ]
     },
     "execution_count": 19,
     "metadata": {},
     "output_type": "execute_result"
    }
   ],
   "source": [
    "response = rag.invoke({\"input\": \"What is an hululu?\"})\n",
    "response"
   ]
  },
  {
   "cell_type": "code",
   "execution_count": 20,
   "id": "25441b6b",
   "metadata": {},
   "outputs": [
    {
     "data": {
      "text/plain": [
       "{'input': 'What is my name?',\n",
       " 'context': [Document(id='b02c209e-c1de-47fd-8e69-a16d96dd372e', metadata={'producer': 'LibreOffice 24.8.1.2 (X86_64) / LibreOffice Community', 'creator': 'Writer', 'creationdate': '2024-10-16T16:21:41+00:00', 'source': 'D:\\\\Projects2025\\\\Chatbot2\\\\Media\\\\operating system.pdf', 'total_pages': 179, 'page': 129, 'page_label': '130'}, page_content='8. The machine containing the files is the _______ and the machine wanting to \\naccess the files is the ______\\na) master, slave\\nb) memory, user\\nc) server, client\\nd) none of the mentioned\\nAnswer: c\\nExplanation: None.\\n9. Distributed naming services/Distributed information systems have been devised \\nto _____________\\na) provide information about all the systems\\nb) provide unified access to the information needed for remote computing\\nc) provide unique names to all systems in a network\\nd) all of the mentioned\\nAnswer: b\\nExplanation: None.\\n10. Domain name system provides _____________\\na) host-name-to-network-address translations for the entire internet\\nb) network-address-to-host-name translations for the entire internet\\nc) binary to hex translations for the entire internet\\nd) all of the mentioned\\nAnswer: a\\nExplanation: None.\\n11. To recover from failures in the network operations _____________ information \\nmay be maintained.\\na) ip address\\nb) state\\nc) stateless\\nd) operating system\\nAnswer: b\\nExplanation: None.\\n12. The series of accesses between the open and close operations is a \\n_____________\\na) transaction\\nb) procedure\\nc) program\\n--------------------------------------------------------------------------------\\n---------------------------------\\nOperating System Questions & Answers – File System Interface Protection\\n--------------------------------------------------------------------------------\\n---------------------------------\\n1. Reliability of files can be increased by _____________\\na) keeping the files safely in the memory\\nb) making a different partition for the files\\nc) by keeping them in external storage\\nd) by keeping duplicate copies of the file\\nAnswer: d\\nExplanation: None.\\n2. Protection is only provided at the _____ level.\\na) lower\\nb) central\\nc) higher\\nd) none of the mentioned\\nAnswer: a'),\n",
       "  Document(id='59d9c1bb-472e-40b9-a5bc-acb372a285c6', metadata={'producer': 'LibreOffice 24.8.1.2 (X86_64) / LibreOffice Community', 'creator': 'Writer', 'creationdate': '2024-10-16T16:21:41+00:00', 'source': 'D:\\\\Projects2025\\\\Chatbot2\\\\Media\\\\operating system.pdf', 'total_pages': 179, 'page': 123, 'page_label': '124'}, page_content='9. Which of the following are the two parts of the file name?\\na) name & identifier\\nb) identifier & type\\nc) extension & name\\nd) type & extension\\nAnswer: c\\nExplanation: None.\\nMore MCQs on Interface Access Methods:\\n--------------------------------------------------------------------------------\\n---------------------------------\\nOperating System Questions & Answers – File System Interface Access Methods – 2\\n--------------------------------------------------------------------------------\\n---------------------------------\\n1. The UNIX sytem uses a/an ________ stored at the beginning of a some files to \\nindicate roughly the type of file.\\na) identifier\\nb) extension\\nc) virtual number\\nd) magic number\\nAnswer: d\\nExplanation: None.\\n2. The larger the block size, the ______ the internal fragmentation.\\na) greater\\nb) lesser\\nc) same\\nd) none of the mentioned\\nAnswer: a\\nExplanation: None.\\n3. In the sequential access method, information in the file is processed \\n____________\\na) one disk after the other, record access doesnt matter\\nb) one record after the other\\nc) one text document after the other\\nd) none of the mentioned\\nAnswer: b\\nExplanation: None.\\n4. Sequential access method ______  on random access devices.\\na) works well\\nb) doesnt work well\\nc) maybe works well and doesnt work well\\nd) none of the mentioned\\nAnswer: a\\nExplanation: None.\\n5. The direct access method is based on a ______ model of a file, as _____ allow \\nrandom access to any file block.\\na) magnetic tape, magnetic tapes\\nb) tape, tapes\\nc) disk, disks\\nd) all of the mentioned\\nAnswer: c\\nExplanation: None.'),\n",
       "  Document(id='ecf65fe9-b1ee-4ae7-888f-b67fe0a78485', metadata={'producer': 'LibreOffice 24.8.1.2 (X86_64) / LibreOffice Community', 'creator': 'Writer', 'creationdate': '2024-10-16T16:21:41+00:00', 'source': 'D:\\\\Projects2025\\\\Chatbot2\\\\Media\\\\operating system.pdf', 'total_pages': 179, 'page': 174, 'page_label': '175'}, page_content='b) Migration\\nc) Client interface\\nd) Remote access\\n Answer: b\\nExplanation: None.\\n4. Which one of the following hides the location where in the network the file \\nis stored?\\na) transparent distributed file system\\nb) hidden distributed file system\\nc) escaped distribution file system\\nd) spy distributed file system\\n Answer: a\\nExplanation: None.\\n5. In a distributed file system, when a file’s physical storage location changes \\n___________\\na) file name need to be changed\\nb) file name need not to be changed\\nc) file’s host name need to be changed\\nd) file’s local name need to be changed\\n Answer: b\\nExplanation: None.\\nSanfoundry Certification Contest of the Month is Live. 100+ Subjects. \\nParticipate Now!\\n6. In a distributed file system, _______ is mapping between logical and physical \\nobjects.\\na) client interfacing\\nb) naming\\nc) migration\\nd) heterogeneity\\n Answer: b\\nExplanation: None.\\n7. In a distributed file system, a file is uniquely identified by ___________\\na) host name\\nb) local name\\nc) the combination of host name and local name\\nd) none of the mentioned\\n Answer: c\\nExplanation: None.\\n8. There is no need to establish and terminate a connection through open and \\nclose operation in ___________\\na) stateless file service\\nb) stateful file service\\nc) both stateless and stateful file service\\nd) none of the mentioned\\n Answer: a\\nExplanation: None.\\n9. In distributed file system, file name does not reveal the file’s ___________\\na) local name\\nb) physical storage location\\nc) both local name and physical storage location'),\n",
       "  Document(id='7cc99b67-38a9-42ef-be9a-e2662e194c75', metadata={'producer': 'LibreOffice 24.8.1.2 (X86_64) / LibreOffice Community', 'creator': 'Writer', 'creationdate': '2024-10-16T16:21:41+00:00', 'source': 'D:\\\\Projects2025\\\\Chatbot2\\\\Media\\\\operating system.pdf', 'total_pages': 179, 'page': 11, 'page_label': '12'}, page_content='PID. The PID provides unique value to each process in the system so that each \\nprocess can be identified uniquely.\\n    \\nNote: Join free Sanfoundry classes at Telegram or Youtube\\n6. In UNIX, the return value for the fork system call is _____ for the child \\nprocess and _____ for the parent process.\\na) A Negative integer, Zero\\nb) Zero, A Negative integer\\nc) Zero, A nonzero integer\\nd) A nonzero integer, Zero\\nAnswer: c\\nExplanation: In Unix, the return value of the fork system call is Zero for the \\nchild process and Non-zero value for parent process. A fork system call returns \\nthe PID of a newly created (child) process to the parent and returns Zero to \\nthat newly created (child) process.\\n7. The child process can __________')],\n",
       " 'answer': 'I do not know your name. As an AI, I have no memory of past conversations and don’t retain personal information. \\n\\nTo help me understand who you are, you’ll need to tell me your name! 😊'}"
      ]
     },
     "execution_count": 20,
     "metadata": {},
     "output_type": "execute_result"
    }
   ],
   "source": [
    "response = rag.invoke({\"input\": \"What is my name?\"})\n",
    "response"
   ]
  },
  {
   "cell_type": "code",
   "execution_count": 28,
   "id": "ee9045c7",
   "metadata": {},
   "outputs": [],
   "source": [
    "from langchain.chains import create_history_aware_retriever\n",
    "from langchain_core.prompts import MessagesPlaceholder\n",
    "\n",
    "contextualize_q_system_prompt = (\n",
    "    \"Given a chat history and the latest user question \"\n",
    "    \"which might reference context in the chat history, \"\n",
    "    \"formulate a standalone question which can be understood \"\n",
    "    \"without the chat history. Do NOT answer the question, \"\n",
    "    \"just reformulate it if needed and otherwise return it as is.\"\n",
    ")\n",
    "contextualize_q_prompt = ChatPromptTemplate.from_messages(\n",
    "    [\n",
    "        (\"system\", contextualize_q_system_prompt),\n",
    "        (\"human\", \"{input}\"),\n",
    "        MessagesPlaceholder(\"chat_history\"),\n",
    "    ]\n",
    ")"
   ]
  },
  {
   "cell_type": "code",
   "execution_count": 30,
   "id": "c3d48c6c",
   "metadata": {},
   "outputs": [
    {
     "data": {
      "text/plain": [
       "RunnableBinding(bound=RunnableBranch(branches=[(RunnableLambda(lambda x: not x.get('chat_history', False)), RunnableLambda(lambda x: x['input'])\n",
       "| VectorStoreRetriever(tags=['FAISS', 'HuggingFaceEndpointEmbeddings'], vectorstore=<langchain_community.vectorstores.faiss.FAISS object at 0x000001E2FDB1A3C0>, search_kwargs={}))], default=ChatPromptTemplate(input_variables=['chat_history', 'input'], input_types={'chat_history': list[typing.Annotated[typing.Union[typing.Annotated[langchain_core.messages.ai.AIMessage, Tag(tag='ai')], typing.Annotated[langchain_core.messages.human.HumanMessage, Tag(tag='human')], typing.Annotated[langchain_core.messages.chat.ChatMessage, Tag(tag='chat')], typing.Annotated[langchain_core.messages.system.SystemMessage, Tag(tag='system')], typing.Annotated[langchain_core.messages.function.FunctionMessage, Tag(tag='function')], typing.Annotated[langchain_core.messages.tool.ToolMessage, Tag(tag='tool')], typing.Annotated[langchain_core.messages.ai.AIMessageChunk, Tag(tag='AIMessageChunk')], typing.Annotated[langchain_core.messages.human.HumanMessageChunk, Tag(tag='HumanMessageChunk')], typing.Annotated[langchain_core.messages.chat.ChatMessageChunk, Tag(tag='ChatMessageChunk')], typing.Annotated[langchain_core.messages.system.SystemMessageChunk, Tag(tag='SystemMessageChunk')], typing.Annotated[langchain_core.messages.function.FunctionMessageChunk, Tag(tag='FunctionMessageChunk')], typing.Annotated[langchain_core.messages.tool.ToolMessageChunk, Tag(tag='ToolMessageChunk')]], FieldInfo(annotation=NoneType, required=True, discriminator=Discriminator(discriminator=<function _get_type at 0x000001E2DD7C3240>, custom_error_type=None, custom_error_message=None, custom_error_context=None))]]}, partial_variables={}, messages=[SystemMessagePromptTemplate(prompt=PromptTemplate(input_variables=[], input_types={}, partial_variables={}, template='Given a chat history and the latest user question which might reference context in the chat history, formulate a standalone question which can be understood without the chat history. Do NOT answer the question, just reformulate it if needed and otherwise return it as is.'), additional_kwargs={}), HumanMessagePromptTemplate(prompt=PromptTemplate(input_variables=['input'], input_types={}, partial_variables={}, template='{input}'), additional_kwargs={}), MessagesPlaceholder(variable_name='chat_history')])\n",
       "| ChatOllama(model='gemma3:4b')\n",
       "| StrOutputParser()\n",
       "| VectorStoreRetriever(tags=['FAISS', 'HuggingFaceEndpointEmbeddings'], vectorstore=<langchain_community.vectorstores.faiss.FAISS object at 0x000001E2FDB1A3C0>, search_kwargs={})), kwargs={}, config={'run_name': 'chat_retriever_chain'}, config_factories=[])"
      ]
     },
     "execution_count": 30,
     "metadata": {},
     "output_type": "execute_result"
    }
   ],
   "source": [
    "\n",
    "h_ritriver = create_history_aware_retriever(llm, retriver, contextualize_q_prompt)\n",
    "h_ritriver"
   ]
  },
  {
   "cell_type": "code",
   "execution_count": 31,
   "id": "421e1add",
   "metadata": {},
   "outputs": [],
   "source": [
    "stuff_doc = create_stuff_documents_chain(llm, prompt)\n",
    "rag = create_retrieval_chain(h_ritriver, stuff_doc)"
   ]
  },
  {
   "cell_type": "code",
   "execution_count": 33,
   "id": "46ab9d7b",
   "metadata": {},
   "outputs": [
    {
     "data": {
      "text/plain": [
       "'According to the provided information:\\n\\n**An operating system is a collection of programs that manages hardware resources.** \\n\\nIt also provides services to application programs and acts as an interface between the hardware and application programs.'"
      ]
     },
     "execution_count": 33,
     "metadata": {},
     "output_type": "execute_result"
    }
   ],
   "source": [
    "question = \"What is an operating system?\"\n",
    "response1=rag.invoke({\"input\":question})\n",
    "response1[\"answer\"]"
   ]
  },
  {
   "cell_type": "code",
   "execution_count": 39,
   "id": "a9b5b1e3",
   "metadata": {},
   "outputs": [
    {
     "data": {
      "text/plain": [
       "'To access the services of the operating system, the interface is provided by the **system calls**.'"
      ]
     },
     "execution_count": 39,
     "metadata": {},
     "output_type": "execute_result"
    }
   ],
   "source": [
    "question = \"To access the services of it, the interface is provided by the?\"\n",
    "response1=rag.invoke({\"input\":question})\n",
    "response1[\"answer\"]"
   ]
  },
  {
   "cell_type": "code",
   "execution_count": 36,
   "id": "44027ed5",
   "metadata": {},
   "outputs": [
    {
     "data": {
      "text/plain": [
       "'Hello Nafeesh! It’s nice to meet you. 😊 \\n\\nHow are you doing today?'"
      ]
     },
     "execution_count": 36,
     "metadata": {},
     "output_type": "execute_result"
    }
   ],
   "source": [
    "question = \"Hello my name is Nafeesh?\"\n",
    "response1=rag.invoke({\"input\":question})\n",
    "response1[\"answer\"]"
   ]
  },
  {
   "cell_type": "code",
   "execution_count": 38,
   "id": "7d232721",
   "metadata": {},
   "outputs": [
    {
     "data": {
      "text/plain": [
       "\"I do not know your name. As an AI, I have no memory of past conversations and don't retain personal information. \\n\\nTo help me understand who you are, you’ll need to tell me your name! 😊\""
      ]
     },
     "execution_count": 38,
     "metadata": {},
     "output_type": "execute_result"
    }
   ],
   "source": [
    "question = \"What is my name?\"\n",
    "response1=rag.invoke({\"input\":question})\n",
    "response1[\"answer\"]"
   ]
  },
  {
   "cell_type": "code",
   "execution_count": 41,
   "id": "c86f2146",
   "metadata": {},
   "outputs": [
    {
     "name": "stdout",
     "output_type": "stream",
     "text": [
      "Hello Nafeesh! It’s nice to meet you. 😊 \n",
      "\n",
      "How are you doing today?\n"
     ]
    }
   ],
   "source": [
    "from langchain_core.messages import AIMessage,HumanMessage\n",
    "chat_history=[]\n",
    "question= \"Hello my name is Nafeesh?\"\n",
    "response1=rag.invoke({\"input\":question,\"chat_history\":chat_history})\n",
    "\n",
    "chat_history.extend(\n",
    "    [\n",
    "        HumanMessage(content=question),\n",
    "        AIMessage(content=response1[\"answer\"])\n",
    "    ]\n",
    ")\n",
    "\n",
    "question2=\"Tell me more about it?\"\n",
    "response2=rag.invoke({\"input\":question,\"chat_history\":chat_history})\n",
    "print(response2['answer'])"
   ]
  },
  {
   "cell_type": "code",
   "execution_count": 42,
   "id": "376c354f",
   "metadata": {},
   "outputs": [
    {
     "name": "stdout",
     "output_type": "stream",
     "text": [
      "Hello Nafeesh! It’s nice to meet you. 😊 \n",
      "\n",
      "Is there anything I can help you with today?\n"
     ]
    }
   ],
   "source": [
    "question2=\"What is my name?\"\n",
    "response2=rag.invoke({\"input\":question,\"chat_history\":chat_history})\n",
    "print(response2['answer'])"
   ]
  },
  {
   "cell_type": "code",
   "execution_count": null,
   "id": "ae2eda8f",
   "metadata": {},
   "outputs": [],
   "source": []
  }
 ],
 "metadata": {
  "kernelspec": {
   "display_name": ".c2env",
   "language": "python",
   "name": "python3"
  },
  "language_info": {
   "codemirror_mode": {
    "name": "ipython",
    "version": 3
   },
   "file_extension": ".py",
   "mimetype": "text/x-python",
   "name": "python",
   "nbconvert_exporter": "python",
   "pygments_lexer": "ipython3",
   "version": "3.13.7"
  }
 },
 "nbformat": 4,
 "nbformat_minor": 5
}
